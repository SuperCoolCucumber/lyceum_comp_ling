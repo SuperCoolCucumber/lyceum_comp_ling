{
 "cells": [
  {
   "cell_type": "markdown",
   "metadata": {},
   "source": [
    "# Named Entity Recognition with Natasha\n",
    "https://natasha.github.io/\n",
    "\n",
    "https://natasha.github.io/ner/"
   ]
  },
  {
   "cell_type": "code",
   "execution_count": 3,
   "metadata": {},
   "outputs": [],
   "source": [
    "from natasha import ( \n",
    "    Segmenter,\n",
    "\n",
    "    NewsEmbedding,\n",
    "    NewsNERTagger,\n",
    "\n",
    "    Doc \n",
    ")\n",
    "\n",
    "segmenter = Segmenter()\n",
    "\n",
    "emb = NewsEmbedding()\n",
    "ner_tagger = NewsNERTagger(emb)\n",
    "\n",
    "text = 'Аномальный мороз до минус 28 градусов пообещал жителям столицы научный руководитель Гидрометцентра России Роман Вильфанд. Он сообщил «Интерфаксу», что в среду, 22 февраля прогнозируется самый холодный день. «Минимальная температура ночью — минус 19-21, по области до минус 28 градусов. А дневные температуры — минус 13-11. Очень холодная погода, которая на 8-9 градусов ниже многолетних значений», — рассказал синоптик. На День защитника Отечества, 23 февраля, в Москве ожидается 18-16 градусов мороза ночью, в Подмосковье — до минус 23 градусов. Дневная температура составит минус 10-9 градусов, по области — до минус 12. Это ниже нормы примерно на восемь градусов, уточнил Вильфанд. Несмотря на все это, в целом погода в столичном регионе ожидается спокойной и без осадков, отметил синоптик. Ранее оттепель на широкую Масленицу в Москве спрогнозировал руководитель прогностического центра «Метео» Александр Шувалов. По его словам, с 23 по 26 февраля в столицу придет оттепель от нуля до плюс двух градусов.'\n",
    "doc = Doc(text)\n"
   ]
  },
  {
   "cell_type": "code",
   "execution_count": 4,
   "metadata": {},
   "outputs": [],
   "source": [
    "doc.segment(segmenter)"
   ]
  },
  {
   "cell_type": "code",
   "execution_count": 5,
   "metadata": {},
   "outputs": [
    {
     "data": {
      "text/plain": [
       "Doc(text='Аномальный мороз до минус 28 градусов пообещал жи..., tokens=[...], sents=[...])"
      ]
     },
     "execution_count": 5,
     "metadata": {},
     "output_type": "execute_result"
    }
   ],
   "source": [
    "doc"
   ]
  },
  {
   "cell_type": "code",
   "execution_count": 6,
   "metadata": {},
   "outputs": [],
   "source": [
    "doc.tag_ner(ner_tagger)"
   ]
  },
  {
   "cell_type": "code",
   "execution_count": 7,
   "metadata": {},
   "outputs": [
    {
     "name": "stdout",
     "output_type": "stream",
     "text": [
      "Аномальный мороз до минус 28 градусов пообещал жителям столицы научный\n",
      " руководитель Гидрометцентра России Роман Вильфанд. Он сообщил \n",
      "              ORG─────────── LOC─── PER───────────             \n",
      "«Интерфаксу», что в среду, 22 февраля прогнозируется самый холодный \n",
      " ORG───────                                                         \n",
      "день. «Минимальная температура ночью — минус 19-21, по области до \n",
      "минус 28 градусов. А дневные температуры — минус 13-11. Очень холодная\n",
      " погода, которая на 8-9 градусов ниже многолетних значений», — \n",
      "рассказал синоптик. На День защитника Отечества, 23 февраля, в Москве \n",
      "                                                               LOC─── \n",
      "ожидается 18-16 градусов мороза ночью, в Подмосковье — до минус 23 \n",
      "                                         LOC────────               \n",
      "градусов. Дневная температура составит минус 10-9 градусов, по области\n",
      " — до минус 12. Это ниже нормы примерно на восемь градусов, уточнил \n",
      "Вильфанд. Несмотря на все это, в целом погода в столичном регионе \n",
      "PER─────                                                          \n",
      "ожидается спокойной и без осадков, отметил синоптик. Ранее оттепель на\n",
      " широкую Масленицу в Москве спрогнозировал руководитель \n",
      "                     LOC───                             \n",
      "прогностического центра «Метео» Александр Шувалов. По его словам, с 23\n",
      "                         ORG──  PER──────────────                     \n",
      " по 26 февраля в столицу придет оттепель от нуля до плюс двух \n",
      "градусов.\n"
     ]
    }
   ],
   "source": [
    "doc.ner.print()"
   ]
  },
  {
   "cell_type": "code",
   "execution_count": 8,
   "metadata": {},
   "outputs": [
    {
     "data": {
      "text/plain": [
       "[DocSpan(start=84, stop=98, type='ORG', text='Гидрометцентра', tokens=[...]),\n",
       " DocSpan(start=99, stop=105, type='LOC', text='России', tokens=[...]),\n",
       " DocSpan(start=106, stop=120, type='PER', text='Роман Вильфанд', tokens=[...]),\n",
       " DocSpan(start=134, stop=144, type='ORG', text='Интерфаксу', tokens=[...]),\n",
       " DocSpan(start=463, stop=469, type='LOC', text='Москве', tokens=[...])]"
      ]
     },
     "execution_count": 8,
     "metadata": {},
     "output_type": "execute_result"
    }
   ],
   "source": [
    "doc.spans[:5]"
   ]
  },
  {
   "cell_type": "code",
   "execution_count": 9,
   "metadata": {},
   "outputs": [
    {
     "data": {
      "text/plain": [
       "'ORG'"
      ]
     },
     "execution_count": 9,
     "metadata": {},
     "output_type": "execute_result"
    }
   ],
   "source": [
    "doc.spans[0].type"
   ]
  },
  {
   "cell_type": "code",
   "execution_count": 10,
   "metadata": {},
   "outputs": [
    {
     "name": "stdout",
     "output_type": "stream",
     "text": [
      "ORG\n",
      "LOC\n",
      "PER\n",
      "ORG\n",
      "LOC\n",
      "LOC\n",
      "PER\n",
      "LOC\n",
      "ORG\n",
      "PER\n"
     ]
    }
   ],
   "source": [
    "for tag in doc.spans:\n",
    "    print(tag.type)"
   ]
  },
  {
   "cell_type": "code",
   "execution_count": 13,
   "metadata": {},
   "outputs": [],
   "source": [
    "# find a new text that has a larger number of entities\n",
    "# collect all tags of the text into a list \n",
    "\n",
    "ner = []\n",
    "# your code here"
   ]
  },
  {
   "cell_type": "code",
   "execution_count": 12,
   "metadata": {},
   "outputs": [
    {
     "data": {
      "text/plain": [
       "['ORG', 'LOC', 'PER', 'ORG', 'LOC', 'LOC', 'PER', 'LOC', 'ORG', 'PER']"
      ]
     },
     "execution_count": 12,
     "metadata": {},
     "output_type": "execute_result"
    }
   ],
   "source": [
    "ner"
   ]
  },
  {
   "cell_type": "markdown",
   "metadata": {},
   "source": [
    "Explore the methods of the `doc` object by hitting `.` and `Shift+Tab`"
   ]
  },
  {
   "cell_type": "markdown",
   "metadata": {},
   "source": [
    "Read the [docs](https://nbviewer.org/github/natasha/natasha/blob/master/docs.ipynb) to find out how to do the following:\n",
    "\n",
    "- extract names of people\n",
    "- extract dates\n",
    "- extract money\n",
    "- extract addresses"
   ]
  }
 ],
 "metadata": {
  "kernelspec": {
   "display_name": "Python 3.10.6 ('env': venv)",
   "language": "python",
   "name": "python3"
  },
  "language_info": {
   "codemirror_mode": {
    "name": "ipython",
    "version": 3
   },
   "file_extension": ".py",
   "mimetype": "text/x-python",
   "name": "python",
   "nbconvert_exporter": "python",
   "pygments_lexer": "ipython3",
   "version": "3.10.6"
  },
  "orig_nbformat": 4,
  "vscode": {
   "interpreter": {
    "hash": "5e86f0c9d1a15a6bc98deb835ef1270c1257f5dae928803e95e1a616062f49a4"
   }
  }
 },
 "nbformat": 4,
 "nbformat_minor": 2
}
